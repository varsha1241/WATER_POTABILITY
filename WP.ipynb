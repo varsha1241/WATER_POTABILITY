{
  "cells": [
    {
      "cell_type": "markdown",
      "metadata": {
        "id": "view-in-github",
        "colab_type": "text"
      },
      "source": [
        "<a href=\"https://colab.research.google.com/github/varsha1241/WATER_POTABILITY/blob/main/WP.ipynb\" target=\"_parent\"><img src=\"https://colab.research.google.com/assets/colab-badge.svg\" alt=\"Open In Colab\"/></a>"
      ]
    },
    {
      "cell_type": "markdown",
      "metadata": {
        "id": "p_XsABO27F2h"
      },
      "source": [
        "    WATER POTABILITY \n",
        "        In general the water that is safe for human consumption is known as potable water, it can be in any ways - drinking, cooking, irrigation. One majore source we considerde in our project is to predict the water quality that is safe for irrigation as the water if used properly for irrigation then the crops that are grown will also be safe for consumption.\n",
        " \n",
        "    FEATURES\n",
        "        Features and attributes makeup a dataset, the feature that we consider is most important in building our model and for obtaining better accuracy\n",
        "\n",
        "    1. pH value:\n",
        "\n",
        "    PH is an important parameter in evaluating the acid–base balance of water. It is also the indicator of acidic or alkaline condition of water status. WHO has recommended maximum permissible limit of pH from 6.5 to 8.5. The current investigation ranges were 6.52–6.83 which are in the range of WHO standards.\n",
        "\n",
        "    2. Chloramines:\n",
        "\n",
        "    Chlorine and chloramine are the major disinfectants used in public water systems. Chloramines are most commonly formed when ammonia is added to chlorine to treat drinking water. Chlorine levels up to 4 milligrams per liter (mg/L or 4 parts per million (ppm)) are considered safe in drinking water.\n",
        "\n",
        "    3. Lead:\n",
        "\n",
        "    The lead in the drinking water if not under 15 µg/L then that would cause dangerous effect on human body. The lead can enter into water through various other source such as  when plumbing materials that contain lead corrode, especially where the water has high acidity or low mineral content that corrodes pipes and fixtures. The most common sources of lead in drinking water are lead pipes, faucets, and fixtures. In homes with lead pipes that connect the home to the water main, also known as lead services lines, these pipes are typically the most significant source of lead in the water.\n",
        "    \n",
        "WATER DATASET-\n",
        "\n",
        "    We considered two datasets to build our model, as there were few columns that we decided to consider were not available together in one complete dataset. The dataset that we considered are quantitative and structured dataset.\n",
        "    DATASET 1: This dataset consist of 8000 rows and 21 columns. It is a quantitative and structured dataset."
      ]
    },
    {
      "cell_type": "markdown",
      "metadata": {
        "id": "xmYzC4b57F2p"
      },
      "source": [
        "    DATA PREPROCESSING:\n",
        "\n",
        "    1. Getting the dataset\n",
        "    2. Importing libraries\n",
        "    3. Importing datasets\n",
        "    4. Finding Missing Data\n",
        "    5. Encoding Categorical Data\n",
        "    6. Splitting dataset into training and test set\n",
        "    7. Feature scaling\n"
      ]
    },
    {
      "cell_type": "markdown",
      "metadata": {
        "id": "bA2e-ZZ77F2s"
      },
      "source": [
        "    1. GETTING THE DATASET : \n",
        "\n",
        "    The dataset named waterqualoty.csv was downloaded from kaggle website, it is in the form of comma separated values. This dataset contains 8000 rows and 13 columns from which we consider the lead, chloramine and the target value for building our model. The lead and the chloramine are independent variable and the target value 'safe' is the dependent value."
      ]
    },
    {
      "cell_type": "code",
      "source": [
        "import numpy as np\n",
        "from sklearn import svm\n",
        "from sklearn.model_selection import train_test_split\n",
        "from sklearn.preprocessing import StandardScaler\n",
        "from sklearn.model_selection import train_test_split\n",
        "from sklearn import svm #svm algorithm is used\n",
        "from sklearn.metrics import accuracy_score \n",
        "import pandas as pd\n",
        "df = pd.read_csv('/content/drive/MyDrive/waterQuality1.csv')\n",
        "water_dataset= df\n",
        "X = [[12,34],[33,33],[33,33],[12,34],[33,33],[33,33]]\n",
        "Y=  [1,1,0,1,1,0]\n",
        "scaler = StandardScaler()\n",
        "standardized_data=scaler.fit_transform(X)\n",
        "X = standardized_data\n",
        "X_train, X_test, Y_train, Y_test = train_test_split(X,Y, test_size = 0.3, stratify=Y, random_state=2)\n",
        "\n",
        "\n",
        "model = svm.SVC(kernel = 'linear', random_state = 0, C=1.0)\n",
        "#%%\n",
        "model.fit(X_train, Y_train)\n",
        "#%%\n",
        "y=model.predict(X_test)\n",
        "y2=model.predict(X_train)\n",
        "\n",
        "import matplotlib.colors as mcolors\n",
        "import matplotlib.pyplot as plt\n",
        "color = ['black' if c == 0 else 'lightgrey' for c in y]\n",
        "plt.scatter(X_train[:,0], X_train[:,1],cmap = mcolors.ListedColormap([\"black\", \"green\"]))\n",
        " \n",
        "# Create the hyperplane\n",
        "w = model.coef_[0]\n",
        "a = -w[0] / w[1]\n",
        "xx = np.linspace(-2.5, 2.5)\n",
        "yy = a * xx - (model.intercept_[0]) / w[1]\n",
        " \n",
        "# Plot the hyperplane\n",
        "plt.plot(xx, yy)\n",
        "plt.axis(\"off\"), plt.show();"
      ],
      "metadata": {
        "colab": {
          "base_uri": "https://localhost:8080/",
          "height": 284
        },
        "id": "nbuLiKezuBKP",
        "outputId": "c0c51181-85b0-4e01-9e89-12b567df7c58"
      },
      "execution_count": null,
      "outputs": [
        {
          "output_type": "stream",
          "name": "stderr",
          "text": [
            "/usr/local/lib/python3.7/dist-packages/ipykernel_launcher.py:33: RuntimeWarning: invalid value encountered in double_scalars\n",
            "/usr/local/lib/python3.7/dist-packages/ipykernel_launcher.py:35: RuntimeWarning: divide by zero encountered in double_scalars\n"
          ]
        },
        {
          "output_type": "display_data",
          "data": {
            "text/plain": [
              "<Figure size 432x288 with 1 Axes>"
            ],
            "image/png": "[encoded data removed]"
          },
          "metadata": {
            "needs_background": "light"
          }
        }
      ]
    },
    {
      "cell_type": "code",
      "source": [
        "import numpy as np\n",
        "from sklearn.datasets import make_classification\n",
        "from sklearn import svm\n",
        "from sklearn.model_selection import train_test_split\n",
        " \n",
        "classes = 4\n",
        "X,t= make_classification(100, 5, n_classes = classes, random_state= 40, n_informative = 2, n_clusters_per_class = 1)\n",
        "#%%\n",
        "X_train, X_test, y_train, y_test=  train_test_split(X, t , test_size=0.50)\n",
        "#%%\n",
        "model = svm.SVC(kernel = 'linear', random_state = 0, C=1.0)\n",
        "#%%\n",
        "model.fit(X_train, y_train)\n",
        "#%%\n",
        "y=model.predict(X_test)\n",
        "y2=model.predict(X_train)\n",
        "#%%\n",
        "from sklearn.metrics import accuracy_score\n",
        "score =accuracy_score(y, y_test)\n",
        "print(score)\n",
        "score2 =accuracy_score(y2, y_train)\n",
        "print(score2)\n",
        "#%%\n",
        "import matplotlib.pyplot as plt\n",
        "color = ['black' if c == 0 else 'lightgrey' for c in y]\n",
        "plt.scatter(X_train[:,0], X_train[:,1], c=color)\n",
        " \n",
        "# Create the hyperplane\n",
        "w = model.coef_[0]\n",
        "a = -w[0] / w[1]\n",
        "xx = np.linspace(-2.5, 2.5)\n",
        "yy = a * xx - (model.intercept_[0]) / w[1]\n",
        " \n",
        "# Plot the hyperplane\n",
        "plt.plot(xx, yy)\n",
        "plt.axis(\"off\"), plt.show();"
      ],
      "metadata": {
        "colab": {
          "base_uri": "https://localhost:8080/",
          "height": 284
        },
        "id": "PmWS4rrMyBE8",
        "outputId": "539b383d-e364-4e62-f696-a54cfa22d73d"
      },
      "execution_count": null,
      "outputs": [
        {
          "output_type": "stream",
          "name": "stdout",
          "text": [
            "0.9\n",
            "0.96\n"
          ]
        },
        {
          "output_type": "display_data",
          "data": {
            "text/plain": [
              "<Figure size 432x288 with 1 Axes>"
            ],
            "image/png": "[encoded data removed]"
          },
          "metadata": {
            "needs_background": "light"
          }
        }
      ]
    },
    {
      "cell_type": "code",
      "source": [
        "from google.colab import drive\n",
        "drive.mount('/content/drive')"
      ],
      "metadata": {
        "colab": {
          "base_uri": "https://localhost:8080/"
        },
        "id": "_Ow8-e8pvAR8",
        "outputId": "10ad9771-5436-4e25-8206-3f43bedb4153"
      },
      "execution_count": null,
      "outputs": [
        {
          "output_type": "stream",
          "name": "stdout",
          "text": [
            "Mounted at /content/drive\n"
          ]
        }
      ]
    },
    {
      "cell_type": "code",
      "source": [],
      "metadata": {
        "id": "x-A99Pr8uFeL"
      },
      "execution_count": null,
      "outputs": []
    },
    {
      "cell_type": "code",
      "execution_count": null,
      "metadata": {
        "id": "AWShMhHq7F2u"
      },
      "outputs": [],
      "source": [
        "# 2. IMPORTING THE LIBRARIES\n",
        "import numpy as np #import numpy as np\n",
        "import pandas as pd #Pandas is a Python library for data analysis\n",
        "import matplotlib.pyplot as plt #Matplotlib is used for data visualization  \n",
        "import seaborn as sns #Seaborn is an amazing visualization library for statistical graphics plotting in Python\n",
        "from sklearn.metrics import recall_score #how many of the correct hits were also found\n",
        "from sklearn.metrics import precision_score \n",
        "# Precision is the ratio of correctly predicted positive observations to the total predicted positive observations\n",
        "from sklearn.preprocessing import StandardScaler\n",
        "from sklearn.model_selection import train_test_split\n",
        "from sklearn import svm #svm algorithm is used\n",
        "from sklearn.metrics import accuracy_score \n",
        "# the ratio of number of correct predictions to the total number of input samples."
      ]
    },
    {
      "cell_type": "code",
      "execution_count": null,
      "metadata": {
        "id": "vyhuhaiz7F2x"
      },
      "outputs": [],
      "source": [
        "#3. IMPORTING THE DATASETS\n",
        "df = pd.read_csv('C:/Users/ramav/OneDrive/Desktop/FINAL_YR/waterQuality1.csv')\n",
        "water_dataset= df\n",
        "X = water_dataset.drop(columns = ['aluminium','ammonia','arsenic','barium','cadmium','chromium','copper'\n",
        ",'flouride','bacteria','viruses','nitrates','nitrites','mercury','perchlorate','radium','selenium',\n",
        "'silver','uranium','safe'],axis=1)\n",
        "Y= water_dataset['safe']"
      ]
    },
    {
      "cell_type": "code",
      "execution_count": null,
      "metadata": {
        "id": "jr3MLbo27F2y",
        "outputId": "8e36f021-38eb-4ac8-8d5d-e1545cb1b1ee"
      },
      "outputs": [
        {
          "data": {
            "text/html": [
              "<div>\n",
              "<style scoped>\n",
              "    .dataframe tbody tr th:only-of-type {\n",
              "        vertical-align: middle;\n",
              "    }\n",
              "\n",
              "    .dataframe tbody tr th {\n",
              "        vertical-align: top;\n",
              "    }\n",
              "\n",
              "    .dataframe thead th {\n",
              "        text-align: right;\n",
              "    }\n",
              "</style>\n",
              "<table border=\"1\" class=\"dataframe\">\n",
              "  <thead>\n",
              "    <tr style=\"text-align: right;\">\n",
              "      <th></th>\n",
              "      <th>chloramine</th>\n",
              "      <th>lead</th>\n",
              "    </tr>\n",
              "  </thead>\n",
              "  <tbody>\n",
              "    <tr>\n",
              "      <th>0</th>\n",
              "      <td>0.35</td>\n",
              "      <td>0.054</td>\n",
              "    </tr>\n",
              "    <tr>\n",
              "      <th>1</th>\n",
              "      <td>5.28</td>\n",
              "      <td>0.100</td>\n",
              "    </tr>\n",
              "    <tr>\n",
              "      <th>2</th>\n",
              "      <td>4.24</td>\n",
              "      <td>0.078</td>\n",
              "    </tr>\n",
              "    <tr>\n",
              "      <th>3</th>\n",
              "      <td>7.23</td>\n",
              "      <td>0.016</td>\n",
              "    </tr>\n",
              "    <tr>\n",
              "      <th>4</th>\n",
              "      <td>2.67</td>\n",
              "      <td>0.117</td>\n",
              "    </tr>\n",
              "  </tbody>\n",
              "</table>\n",
              "</div>"
            ],
            "text/plain": [
              "   chloramine   lead\n",
              "0        0.35  0.054\n",
              "1        5.28  0.100\n",
              "2        4.24  0.078\n",
              "3        7.23  0.016\n",
              "4        2.67  0.117"
            ]
          },
          "execution_count": 14,
          "metadata": {},
          "output_type": "execute_result"
        }
      ],
      "source": [
        "'''\n",
        "Pandas DataFrame head() method returns top n rows of a DataFrame or Series where n is a user input value. \n",
        "The head() function is used to get the first n rows.\n",
        "It is useful for quickly testing if your object has the right type of data in it.\n",
        "'''\n",
        "X.head()"
      ]
    },
    {
      "cell_type": "code",
      "execution_count": null,
      "metadata": {
        "id": "hmyUFOFl7F2z",
        "outputId": "6ffd8bf9-315b-4a43-a5a3-9f3fbb9e5d4a"
      },
      "outputs": [
        {
          "data": {
            "text/html": [
              "<div>\n",
              "<style scoped>\n",
              "    .dataframe tbody tr th:only-of-type {\n",
              "        vertical-align: middle;\n",
              "    }\n",
              "\n",
              "    .dataframe tbody tr th {\n",
              "        vertical-align: top;\n",
              "    }\n",
              "\n",
              "    .dataframe thead th {\n",
              "        text-align: right;\n",
              "    }\n",
              "</style>\n",
              "<table border=\"1\" class=\"dataframe\">\n",
              "  <thead>\n",
              "    <tr style=\"text-align: right;\">\n",
              "      <th></th>\n",
              "      <th>chloramine</th>\n",
              "      <th>lead</th>\n",
              "    </tr>\n",
              "  </thead>\n",
              "  <tbody>\n",
              "    <tr>\n",
              "      <th>count</th>\n",
              "      <td>7999.000000</td>\n",
              "      <td>7999.000000</td>\n",
              "    </tr>\n",
              "    <tr>\n",
              "      <th>mean</th>\n",
              "      <td>2.176831</td>\n",
              "      <td>0.099450</td>\n",
              "    </tr>\n",
              "    <tr>\n",
              "      <th>std</th>\n",
              "      <td>2.567027</td>\n",
              "      <td>0.058172</td>\n",
              "    </tr>\n",
              "    <tr>\n",
              "      <th>min</th>\n",
              "      <td>0.000000</td>\n",
              "      <td>0.000000</td>\n",
              "    </tr>\n",
              "    <tr>\n",
              "      <th>25%</th>\n",
              "      <td>0.100000</td>\n",
              "      <td>0.048000</td>\n",
              "    </tr>\n",
              "    <tr>\n",
              "      <th>50%</th>\n",
              "      <td>0.530000</td>\n",
              "      <td>0.102000</td>\n",
              "    </tr>\n",
              "    <tr>\n",
              "      <th>75%</th>\n",
              "      <td>4.240000</td>\n",
              "      <td>0.151000</td>\n",
              "    </tr>\n",
              "    <tr>\n",
              "      <th>max</th>\n",
              "      <td>8.680000</td>\n",
              "      <td>0.200000</td>\n",
              "    </tr>\n",
              "  </tbody>\n",
              "</table>\n",
              "</div>"
            ],
            "text/plain": [
              "        chloramine         lead\n",
              "count  7999.000000  7999.000000\n",
              "mean      2.176831     0.099450\n",
              "std       2.567027     0.058172\n",
              "min       0.000000     0.000000\n",
              "25%       0.100000     0.048000\n",
              "50%       0.530000     0.102000\n",
              "75%       4.240000     0.151000\n",
              "max       8.680000     0.200000"
            ]
          },
          "execution_count": 15,
          "metadata": {},
          "output_type": "execute_result"
        }
      ],
      "source": [
        "'''\n",
        "The describe() method is used for calculating some statistical data like percentile, \n",
        "mean and std of the numerical values of the Series or DataFrame. \n",
        "It analyzes both numeric and object series and also the DataFrame column sets of mixed data types.\n",
        "'''\n",
        "X.describe()"
      ]
    },
    {
      "cell_type": "code",
      "execution_count": null,
      "metadata": {
        "id": "E_THfTXG7F20",
        "outputId": "6d377572-9429-4cd5-a0e3-9cf2af523b56"
      },
      "outputs": [
        {
          "data": {
            "text/plain": [
              "chloramine    0\n",
              "lead          0\n",
              "dtype: int64"
            ]
          },
          "execution_count": 19,
          "metadata": {},
          "output_type": "execute_result"
        }
      ],
      "source": [
        "#4. FINDING THE MISSING VALUES\n",
        "'''\n",
        "CHECKING FOR NULL VALUES\n",
        "'''\n",
        "X.isnull().sum()"
      ]
    },
    {
      "cell_type": "markdown",
      "metadata": {
        "id": "TTd4qN5J7F21"
      },
      "source": [
        "    5. Since our dataste contains only quantitative values, there are not categorical values present hence the encoding categorical step is not considred for this dataset. hence we shall proceed to the next step"
      ]
    },
    {
      "cell_type": "code",
      "execution_count": null,
      "metadata": {
        "id": "uQTSuJ_47F23",
        "outputId": "a30cfa01-4d03-42d8-fb69-39768ad0abfe"
      },
      "outputs": [
        {
          "name": "stdout",
          "output_type": "stream",
          "text": [
            "0.3386554296036017\n"
          ]
        }
      ],
      "source": [
        "from sklearn import metrics\n",
        "X_train,X_test,Y_train,Y_test = train_test_split(X,Y,test_size=0.8)\n",
        "classifier = svm.SVC(kernel='linear')\n",
        "classifier.fit(X_train, Y_train)\n",
        "pred = classifier.predict(X_test)\n",
        "rmse = np.sqrt(metrics.mean_squared_error(Y_test,pred))\n",
        "print(rmse)"
      ]
    },
    {
      "cell_type": "code",
      "execution_count": null,
      "metadata": {
        "id": "uQKR17Xw7F24",
        "outputId": "94842a00-5e07-45b2-c734-319082f1aa11"
      },
      "outputs": [
        {
          "name": "stdout",
          "output_type": "stream",
          "text": [
            "0.3377314021526574\n"
          ]
        }
      ],
      "source": [
        "#6. SPLITING DATASET INTO TRAINING AND SPLITING\n",
        "scaler = StandardScaler()\n",
        "standardized_data=scaler.fit_transform(X)\n",
        "X = standardized_data\n",
        "X_train, X_test, Y_train, Y_test = train_test_split(X,Y, test_size = 0.8, stratify=Y, random_state=2)\n",
        "classifier = svm.SVC(kernel='linear')\n",
        "classifier.fit(X_train, Y_train)\n",
        "X_train_prediction = classifier.predict(X_test)\n",
        "rmse = np.sqrt(metrics.mean_squared_error(Y_test,X_train_prediction))\n",
        "print(rmse)"
      ]
    },
    {
      "cell_type": "markdown",
      "metadata": {
        "id": "2kDXWNw07F25"
      },
      "source": [
        "    Feature Scaling is one such process in which we transform the data into a better version. Feature Scaling is done to normalize the features in the dataset into a finite range. See that, we are able to get a significant reduction in the error when we used the standardization technique."
      ]
    },
    {
      "cell_type": "code",
      "execution_count": null,
      "metadata": {
        "id": "3wteUo2V7F26",
        "outputId": "5839977f-d46c-4796-f7ea-8310cd6b4658"
      },
      "outputs": [
        {
          "name": "stdout",
          "output_type": "stream",
          "text": [
            "Accuracy score of the training data :  0.8861788617886179\n",
            "Accuracy score of the test data :  0.8859375\n"
          ]
        }
      ],
      "source": [
        "scaler = StandardScaler()\n",
        "standardized_data=scaler.fit_transform(X)\n",
        "X = standardized_data\n",
        "X_train, X_test, Y_train, Y_test = train_test_split(X,Y, test_size = 0.8, stratify=Y, random_state=2)\n",
        "classifier = svm.SVC(kernel='linear')\n",
        "classifier.fit(X_train, Y_train)\n",
        "X_train_prediction = classifier.predict(X_train)\n",
        "\n",
        "training_data_accuracy = accuracy_score(X_train_prediction, Y_train)\n",
        "print('Accuracy score of the training data : ', training_data_accuracy)\n",
        "X_test_prediction = classifier.predict(X_test)\n",
        "test_data_accuracy = accuracy_score(X_test_prediction, Y_test)\n",
        "print('Accuracy score of the test data : ', test_data_accuracy)"
      ]
    },
    {
      "cell_type": "markdown",
      "metadata": {
        "id": "4G1pWymi7F27"
      },
      "source": [
        "    TRAINING Accuracy: How the model is able to classify the two classes during training on the training dataset. \n",
        "    TESTING  Accuracy: How the model is able to classify the classes with the validation dataset."
      ]
    }
  ],
  "metadata": {
    "kernelspec": {
      "display_name": "Python 3",
      "language": "python",
      "name": "python3"
    },
    "language_info": {
      "codemirror_mode": {
        "name": "ipython",
        "version": 3
      },
      "file_extension": ".py",
      "mimetype": "text/x-python",
      "name": "python",
      "nbconvert_exporter": "python",
      "pygments_lexer": "ipython3",
      "version": "3.7.1"
    },
    "colab": {
      "provenance": [],
      "include_colab_link": true
    }
  },
  "nbformat": 4,
  "nbformat_minor": 0
}